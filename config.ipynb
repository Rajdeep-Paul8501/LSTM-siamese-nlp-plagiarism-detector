{
  "nbformat": 4,
  "nbformat_minor": 0,
  "metadata": {
    "colab": {
      "name": "config.ipynb",
      "provenance": [],
      "authorship_tag": "ABX9TyNw2If0OoKOHoFdde7tvZJm",
      "include_colab_link": true
    },
    "kernelspec": {
      "name": "python3",
      "display_name": "Python 3"
    }
  },
  "cells": [
    {
      "cell_type": "markdown",
      "metadata": {
        "id": "view-in-github",
        "colab_type": "text"
      },
      "source": [
        "<a href=\"https://colab.research.google.com/github/Rajdeep-Paul8501/LSTM-siamese-nlp-plagiarism-detector/blob/master/config.ipynb\" target=\"_parent\"><img src=\"https://colab.research.google.com/assets/colab-badge.svg\" alt=\"Open In Colab\"/></a>"
      ]
    },
    {
      "cell_type": "code",
      "metadata": {
        "id": "JhNaUJiWOz4H",
        "colab_type": "code",
        "colab": {}
      },
      "source": [
        "EMBEDDING_DIM = 50\n",
        "\n",
        "MAX_SEQUENCE_LENGTH = 10\n",
        "VALIDATION_SPLIT = 0.1\n",
        "\n",
        "\n",
        "RATE_DROP_LSTM = 0.17\n",
        "RATE_DROP_DENSE = 0.25\n",
        "NUMBER_LSTM = 50\n",
        "NUMBER_DENSE_UNITS = 50\n",
        "ACTIVATION_FUNCTION = 'relu'\n",
        "\n",
        "\n",
        "siamese_config = {\n",
        "\t'EMBEDDING_DIM': EMBEDDING_DIM,\n",
        "\t'MAX_SEQUENCE_LENGTH' : MAX_SEQUENCE_LENGTH,\n",
        "\t'VALIDATION_SPLIT': VALIDATION_SPLIT,\n",
        "\t'RATE_DROP_LSTM': RATE_DROP_LSTM,\n",
        "\t'RATE_DROP_DENSE': RATE_DROP_DENSE,\n",
        "\t'NUMBER_LSTM': NUMBER_LSTM,\n",
        "\t'NUMBER_DENSE_UNITS': NUMBER_DENSE_UNITS,\n",
        "\t'ACTIVATION_FUNCTION': ACTIVATION_FUNCTION\n",
        "}"
      ],
      "execution_count": 1,
      "outputs": []
    },
    {
      "cell_type": "code",
      "metadata": {
        "id": "nQ1ewtVAO254",
        "colab_type": "code",
        "colab": {}
      },
      "source": [
        ""
      ],
      "execution_count": null,
      "outputs": []
    }
  ]
}